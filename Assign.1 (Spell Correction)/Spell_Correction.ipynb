{
 "cells": [
  {
   "cell_type": "markdown",
   "metadata": {},
   "source": [
    "Import Packages"
   ]
  },
  {
   "cell_type": "code",
   "execution_count": 148,
   "metadata": {},
   "outputs": [],
   "source": [
    "from nltk.corpus import wordnet\n",
    "import PyDictionary as pd\n",
    "import pytrec_eval as pe\n",
    "import BirkBeck\n",
    "import numpy as np"
   ]
  },
  {
   "cell_type": "markdown",
   "metadata": {},
   "source": [
    "Minimum Edit Distance Algorithm"
   ]
  },
  {
   "cell_type": "code",
   "execution_count": 149,
   "metadata": {},
   "outputs": [],
   "source": [
    "def MED(source, target):\n",
    "    n = len(source)\n",
    "    m = len(target)\n",
    "    del_cost = 1\n",
    "    ins_cost = 1\n",
    "    sub_cost = 0\n",
    "    distance = np.zeros([n+1, m+1])\n",
    "\n",
    "    for i in range(1, n):\n",
    "        distance[i,0] = distance[i-1, 0] + del_cost\n",
    "    for j in range(1,m):\n",
    "        distance[0,j] = distance[0, j-1] + ins_cost\n",
    "\n",
    "    for i in range(1, n):\n",
    "        for j in range(1, m):\n",
    "            if source[n-1] == target[m-1]:\n",
    "                sub_cost = 0\n",
    "            else:\n",
    "                sub_cost = 1\n",
    "            distance[i,j] = min (   \n",
    "                                distance[i-1, j] + del_cost,\n",
    "                                distance[i-1, j-1] + sub_cost,\n",
    "                                distance[i, j-1] + ins_cost\n",
    "                                )\n",
    "\n",
    "    return distance"
   ]
  },
  {
   "cell_type": "markdown",
   "metadata": {},
   "source": [
    "Test MED function"
   ]
  },
  {
   "cell_type": "code",
   "execution_count": 150,
   "metadata": {},
   "outputs": [
    {
     "name": "stdout",
     "output_type": "stream",
     "text": [
      "[[0. 1. 2. 3. 4. 5. 6. 0.]\n",
      " [1. 0. 1. 2. 3. 4. 5. 0.]\n",
      " [2. 1. 0. 1. 2. 3. 4. 0.]\n",
      " [3. 2. 1. 0. 1. 2. 3. 0.]\n",
      " [4. 3. 2. 1. 0. 1. 2. 0.]\n",
      " [5. 4. 3. 2. 1. 0. 1. 0.]\n",
      " [0. 0. 0. 0. 0. 0. 0. 0.]]\n"
     ]
    }
   ],
   "source": [
    "print(MED(\"Python\", \"Peithen\"))"
   ]
  }
 ],
 "metadata": {
  "kernelspec": {
   "display_name": "Python 3",
   "language": "python",
   "name": "python3"
  },
  "language_info": {
   "codemirror_mode": {
    "name": "ipython",
    "version": 3
   },
   "file_extension": ".py",
   "mimetype": "text/x-python",
   "name": "python",
   "nbconvert_exporter": "python",
   "pygments_lexer": "ipython3",
   "version": "3.12.1"
  }
 },
 "nbformat": 4,
 "nbformat_minor": 2
}
