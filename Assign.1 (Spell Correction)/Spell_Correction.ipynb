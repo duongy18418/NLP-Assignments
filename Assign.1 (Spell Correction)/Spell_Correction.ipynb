{
 "cells": [
  {
   "cell_type": "markdown",
   "metadata": {},
   "source": [
    "Import Packages"
   ]
  },
  {
   "cell_type": "code",
   "execution_count": 90,
   "metadata": {},
   "outputs": [
    {
     "name": "stdout",
     "output_type": "stream",
     "text": [
      "[['Eastwood', 'Estwood'], ['Hitler', 'Hitlar'], [\"I'd\", \"I'ld\"], [\"I've\", 'Iev'], ['Ireland', 'Irland'], ['Rolls', 'rowles']]\n"
     ]
    }
   ],
   "source": [
    "from nltk.corpus import wordnet #dictionnary D\n",
    "import PyDictionary\n",
    "import pytrec_eval as pe\n",
    "import BirkBeck #Spelling error C\n",
    "import _io\n",
    "\n",
    "corpus = open('BirkBeck/UPWARDDAT.643', 'r')\n",
    "line = 0\n",
    "corpus_list = []\n",
    "\n",
    "while line <= 5:\n",
    "    read_string = corpus.readline()\n",
    "    temp_string = read_string.replace('\\n', '')\n",
    "    string = temp_string.split(\"  \")\n",
    "    corpus_list.append(string)\n",
    "    line += 1\n",
    "\n",
    "print(corpus_list)"
   ]
  },
  {
   "cell_type": "markdown",
   "metadata": {},
   "source": [
    "Minimum Edit Distance Algorithm"
   ]
  },
  {
   "cell_type": "code",
   "execution_count": 91,
   "metadata": {},
   "outputs": [],
   "source": [
    "def MED(source, target):\n",
    "    n = len(source)\n",
    "    m = len(target)\n",
    "    del_cost = 1\n",
    "    ins_cost = 1\n",
    "    sub_cost = 0\n",
    "    distance = np.zeros([n+1, m+1])\n",
    "\n",
    "    for i in range(1, n):\n",
    "        distance[i,0] = distance[i-1, 0] + del_cost\n",
    "    for j in range(1,m):\n",
    "        distance[0,j] = distance[0, j-1] + ins_cost\n",
    "\n",
    "    for i in range(1, n):\n",
    "        for j in range(1, m):\n",
    "            if source[n-1] == target[m-1]:\n",
    "                sub_cost = 0\n",
    "            else:\n",
    "                sub_cost = 1\n",
    "            distance[i,j] = min (   \n",
    "                                distance[i-1, j] + del_cost,\n",
    "                                distance[i-1, j-1] + sub_cost,\n",
    "                                distance[i, j-1] + ins_cost\n",
    "                                )\n",
    "\n",
    "    return distance"
   ]
  },
  {
   "cell_type": "markdown",
   "metadata": {},
   "source": [
    "Test MED function"
   ]
  },
  {
   "cell_type": "code",
   "execution_count": 92,
   "metadata": {},
   "outputs": [
    {
     "name": "stdout",
     "output_type": "stream",
     "text": [
      "['Eastwood', 'Estwood']\n",
      "[[0. 1. 2. 3. 4. 5. 6. 0.]\n",
      " [1. 0. 1. 2. 3. 4. 5. 0.]\n",
      " [2. 1. 0. 1. 2. 3. 4. 0.]\n",
      " [3. 2. 1. 0. 1. 2. 3. 0.]\n",
      " [4. 3. 2. 1. 0. 1. 2. 0.]\n",
      " [5. 4. 3. 2. 1. 0. 1. 0.]\n",
      " [6. 5. 4. 3. 2. 1. 0. 0.]\n",
      " [7. 6. 5. 4. 3. 2. 1. 0.]\n",
      " [0. 0. 0. 0. 0. 0. 0. 0.]]\n",
      "\n",
      "\n",
      "['Hitler', 'Hitlar']\n",
      "[[0. 1. 2. 3. 4. 5. 0.]\n",
      " [1. 0. 1. 2. 3. 4. 0.]\n",
      " [2. 1. 0. 1. 2. 3. 0.]\n",
      " [3. 2. 1. 0. 1. 2. 0.]\n",
      " [4. 3. 2. 1. 0. 1. 0.]\n",
      " [5. 4. 3. 2. 1. 0. 0.]\n",
      " [0. 0. 0. 0. 0. 0. 0.]]\n",
      "\n",
      "\n",
      "[\"I'd\", \"I'ld\"]\n",
      "[[0. 1. 2. 3. 0.]\n",
      " [1. 0. 1. 2. 0.]\n",
      " [2. 1. 0. 1. 0.]\n",
      " [0. 0. 0. 0. 0.]]\n",
      "\n",
      "\n",
      "[\"I've\", 'Iev']\n",
      "[[0. 1. 2. 0.]\n",
      " [1. 1. 2. 0.]\n",
      " [2. 2. 2. 0.]\n",
      " [3. 3. 3. 0.]\n",
      " [0. 0. 0. 0.]]\n",
      "\n",
      "\n",
      "['Ireland', 'Irland']\n",
      "[[0. 1. 2. 3. 4. 5. 0.]\n",
      " [1. 0. 1. 2. 3. 4. 0.]\n",
      " [2. 1. 0. 1. 2. 3. 0.]\n",
      " [3. 2. 1. 0. 1. 2. 0.]\n",
      " [4. 3. 2. 1. 0. 1. 0.]\n",
      " [5. 4. 3. 2. 1. 0. 0.]\n",
      " [6. 5. 4. 3. 2. 1. 0.]\n",
      " [0. 0. 0. 0. 0. 0. 0.]]\n",
      "\n",
      "\n",
      "['Rolls', 'rowles']\n",
      "[[0. 1. 2. 3. 4. 5. 0.]\n",
      " [1. 0. 1. 2. 3. 4. 0.]\n",
      " [2. 1. 0. 1. 2. 3. 0.]\n",
      " [3. 2. 1. 0. 1. 2. 0.]\n",
      " [4. 3. 2. 1. 0. 1. 0.]\n",
      " [0. 0. 0. 0. 0. 0. 0.]]\n",
      "\n",
      "\n"
     ]
    }
   ],
   "source": [
    "correct_word = ''\n",
    "incorrect_word = ''\n",
    "\n",
    "for i in range (len(corpus_list)):\n",
    "    print(corpus_list[i])\n",
    "    correct_word = corpus_list[i][0]\n",
    "    incorrect_word = corpus_list[i][1]\n",
    "    print(MED(correct_word, incorrect_word))\n",
    "    print('\\n')"
   ]
  }
 ],
 "metadata": {
  "kernelspec": {
   "display_name": "Python 3",
   "language": "python",
   "name": "python3"
  },
  "language_info": {
   "codemirror_mode": {
    "name": "ipython",
    "version": 3
   },
   "file_extension": ".py",
   "mimetype": "text/x-python",
   "name": "python",
   "nbconvert_exporter": "python",
   "pygments_lexer": "ipython3",
   "version": "3.12.1"
  }
 },
 "nbformat": 4,
 "nbformat_minor": 2
}
