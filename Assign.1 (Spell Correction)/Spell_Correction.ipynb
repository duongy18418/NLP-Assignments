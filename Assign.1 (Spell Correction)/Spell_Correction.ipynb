{
 "cells": [
  {
   "cell_type": "markdown",
   "metadata": {},
   "source": [
    "Import Packages"
   ]
  },
  {
   "cell_type": "code",
   "execution_count": 193,
   "metadata": {},
   "outputs": [],
   "source": [
    "from nltk.corpus import wordnet #dictionnary D\n",
    "from nltk.metrics import edit_distance\n",
    "import PyDictionary\n",
    "import pytrec_eval\n",
    "import BirkBeck #Spelling error C\n",
    "import _io\n",
    "import numpy as np\n",
    "import json\n",
    "import multiprocessing as mp\n",
    "import time\n",
    "import re\n",
    "\n",
    "corpus = open('Data/UPWARDDAT.643', 'r')\n",
    "line = 0\n",
    "corpus_list = []\n",
    "\n",
    "while line <= 15:\n",
    "    read_string = corpus.readline()\n",
    "    temp_string = read_string.replace('\\n', '')\n",
    "    string = temp_string.split(\"  \")\n",
    "    corpus_list.append(string)\n",
    "    line += 1"
   ]
  },
  {
   "cell_type": "markdown",
   "metadata": {},
   "source": [
    "Minimum Edit Distance Algorithm"
   ]
  },
  {
   "cell_type": "code",
   "execution_count": 194,
   "metadata": {},
   "outputs": [],
   "source": [
    "def MED(source, target):\n",
    "    rows = len(source)\n",
    "    cols = len(target)\n",
    "    del_cost = 1\n",
    "    ins_cost = 1\n",
    "    sub_cost = 1\n",
    "    distance = np.zeros((rows + 1, cols + 1))\n",
    "    distance[0,0] = 0\n",
    "\n",
    "    for i in range(1, rows):\n",
    "        distance[i,0] = i\n",
    "    for j in range(1,cols):\n",
    "        distance[0,j] = j\n",
    "\n",
    "    for i in range(1, rows):\n",
    "        for j in range(1, cols):\n",
    "            if source[rows-1] == target[cols-1]:\n",
    "                sub_cost = 0\n",
    "            else:\n",
    "                sub_cost = 1\n",
    "            distance[i,j] = min (   \n",
    "                                distance[i-1, j] + del_cost,\n",
    "                                distance[i-1, j-1] + sub_cost,\n",
    "                                distance[i, j-1] + ins_cost\n",
    "                                )\n",
    "\n",
    "    return distance[rows-1][cols-1]"
   ]
  },
  {
   "cell_type": "markdown",
   "metadata": {},
   "source": [
    "Test MED function"
   ]
  },
  {
   "cell_type": "code",
   "execution_count": 195,
   "metadata": {},
   "outputs": [
    {
     "name": "stdout",
     "output_type": "stream",
     "text": [
      "2\n"
     ]
    }
   ],
   "source": [
    "correct_word = ''\n",
    "incorrect_word = ''\n",
    "words = [n for n in wordnet.all_lemma_names() if len(n) <= 10 and n.find(\"_\") == -1 and not n.isdigit()]\n",
    "\n",
    "\"\"\"for i in range (len(corpus_list)):\n",
    "    print(corpus_list[i])\n",
    "    correct_word = corpus_list[i][0]\n",
    "    incorrect_word = corpus_list[i][1]\n",
    "    print(MED(incorrect_word, words))\n",
    "    print('\\n')\"\"\"\n",
    "\n",
    "print(edit_distance(\"flaw\", \"lawn\"))"
   ]
  },
  {
   "cell_type": "code",
   "execution_count": 196,
   "metadata": {},
   "outputs": [
    {
     "name": "stdout",
     "output_type": "stream",
     "text": [
      "['en', 'gligh']\n",
      "61751.0\n",
      "['g', 'ligh']\n",
      "61751.0\n",
      "['li', 'gh']\n",
      "61751.0\n",
      "['g', 'h']\n",
      "61751.0\n",
      "['h', '']\n",
      "61751.0\n"
     ]
    },
    {
     "data": {
      "text/plain": [
       "list['en', list['g', list['li', list['g', list['h', []]]]]]"
      ]
     },
     "execution_count": 196,
     "metadata": {},
     "output_type": "execute_result"
    }
   ],
   "source": [
    "def maxMatch (string, dictionnary):\n",
    "    if not string:\n",
    "        return []\n",
    "    for i in range(len(string)-1, -1, -1):\n",
    "        first_word = (string[0:i+1])\n",
    "        remainder = string[i+1:len(string)]\n",
    "        if first_word in dictionnary:\n",
    "            print([first_word] + [remainder])\n",
    "            print(MED(first_word, words))\n",
    "            return list[first_word, maxMatch(remainder, dictionnary)]\n",
    "    first_word = string[0]\n",
    "    remainder = string[1:len(string)]\n",
    "\n",
    "maxMatch('engligh', words)"
   ]
  },
  {
   "cell_type": "code",
   "execution_count": 197,
   "metadata": {},
   "outputs": [
    {
     "name": "stdout",
     "output_type": "stream",
     "text": [
      "Average s@1  0.0\n",
      "Average s@5  0.0\n",
      "Average s@10  0.0\n"
     ]
    }
   ],
   "source": [
    "s1 = []\n",
    "s5 = []\n",
    "s10 = []\n",
    "count = 0\n",
    "\n",
    "for c in corpus_list:\n",
    "    distance = []\n",
    "    count += 1\n",
    "    for w in words:\n",
    "        new_word = (w, edit_distance('#'+w, '#'+c[0]))\n",
    "        #print(new_word)\n",
    "        distance.append(new_word)\n",
    "    sort_distance = sorted(distance, key=lambda x: x[1])\n",
    "\n",
    "    lowest_distance = []\n",
    "    for i in range(0,10):\n",
    "        lowest_distance.append(sort_distance[i])\n",
    "    #print(lowest_distance)\n",
    "    if c[1] == lowest_distance[0][0]:\n",
    "        k1 = 1\n",
    "    else:\n",
    "        k1 = 0\n",
    "    s1.append(k1)\n",
    "    #print(s1)\n",
    "\n",
    "    k5 = 0\n",
    "    for i in range(0, 4):\n",
    "        if c[1] == lowest_distance[i][0]:\n",
    "            k5 = 1\n",
    "            break\n",
    "    s5.append(k5)\n",
    "    \n",
    "    k10 = 0\n",
    "    for i in range(0,9):\n",
    "        if c[1] == lowest_distance[i][0]:\n",
    "            k10 = 1\n",
    "            break\n",
    "    s10.append(k10)\n",
    "\n",
    "print(\"Average s@1 \", pytrec_eval.compute_aggregated_measure(\"gm\", s1))\n",
    "print(\"Average s@5 \", pytrec_eval.compute_aggregated_measure(\"gm\", s5))\n",
    "print(\"Average s@10 \", pytrec_eval.compute_aggregated_measure(\"gm\", s10))"
   ]
  }
 ],
 "metadata": {
  "kernelspec": {
   "display_name": "Python 3",
   "language": "python",
   "name": "python3"
  },
  "language_info": {
   "codemirror_mode": {
    "name": "ipython",
    "version": 3
   },
   "file_extension": ".py",
   "mimetype": "text/x-python",
   "name": "python",
   "nbconvert_exporter": "python",
   "pygments_lexer": "ipython3",
   "version": "3.12.1"
  }
 },
 "nbformat": 4,
 "nbformat_minor": 2
}
