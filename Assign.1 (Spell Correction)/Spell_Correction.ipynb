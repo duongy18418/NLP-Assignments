{
 "cells": [
  {
   "cell_type": "markdown",
   "metadata": {},
   "source": [
    "Import Packages"
   ]
  },
  {
   "cell_type": "code",
   "execution_count": 159,
   "metadata": {},
   "outputs": [
    {
     "name": "stdout",
     "output_type": "stream",
     "text": [
      "['visited', 'magnificent', 'opposite', 'gallery', 'splendid', 'purple']\n",
      "['visit', 'magnefision', 'aposit', 'galleroy', 'spenlid', 'purpal']\n"
     ]
    }
   ],
   "source": [
    "from nltk.corpus import wordnet #dictionnary D\n",
    "import pytrec_eval\n",
    "import numpy as np\n",
    "import warnings\n",
    "import operator\n",
    "\n",
    "corpus = open('Data/APPLING2DAT.643', 'r')\n",
    "line = 0\n",
    "corpus_list = []\n",
    "correct_word = []\n",
    "incorrect_word = []\n",
    "\n",
    "while line <= 5:\n",
    "    read_string = corpus.readline()\n",
    "    temp_string = read_string.replace('\\n', '')\n",
    "    string = temp_string.split(\" \")\n",
    "    corpus_list.append(string)\n",
    "    line += 1\n",
    "\n",
    "for i in range(len(corpus_list)):\n",
    "    correct_word.append(corpus_list[i][1])\n",
    "    incorrect_word.append(corpus_list[i][0])\n",
    "\n",
    "print(correct_word)\n",
    "print(incorrect_word)\n"
   ]
  },
  {
   "cell_type": "markdown",
   "metadata": {},
   "source": [
    "Minimum Edit Distance Algorithm"
   ]
  },
  {
   "cell_type": "code",
   "execution_count": 160,
   "metadata": {},
   "outputs": [],
   "source": [
    "def MED(source, target):\n",
    "    s = len(source)\n",
    "    t = len(target)\n",
    "    del_cost = 1\n",
    "    ins_cost = 1\n",
    "    sub_cost = 0\n",
    "    distance = np.zeros((s+1, t+1))\n",
    "\n",
    "    for i in range(1, s+1):\n",
    "        distance[i,0] = i\n",
    "    for j in range(1,t+1):\n",
    "        distance[0,j] = j\n",
    "\n",
    "    for i in range(1, s+1):\n",
    "        for j in range(1, t+1):\n",
    "            func1 = distance[i, j-1]\n",
    "            func2 = distance[i-1, j]\n",
    "            func3 = distance[i-1, j-1]\n",
    "\n",
    "            if source[i-1] == target[j-1]:\n",
    "                sub_cost = 0\n",
    "            else:\n",
    "                sub_cost = 2\n",
    "            \n",
    "            if func1 <= func2 and func1 <= func3:\n",
    "                distance[i, j] = func1 + ins_cost\n",
    "            elif func2 <= func1 and func2 <= func3:\n",
    "                distance[i, j] = func2 + del_cost\n",
    "            else:\n",
    "                distance[i, j] = func3 + sub_cost\n",
    "\n",
    "    return distance[s, t]"
   ]
  },
  {
   "cell_type": "markdown",
   "metadata": {},
   "source": [
    "Test MED function"
   ]
  },
  {
   "cell_type": "code",
   "execution_count": 161,
   "metadata": {},
   "outputs": [],
   "source": [
    "def find_nearest_token(token):\n",
    "    warnings.filterwarnings('ignore') #Remove SyntaxWarning for the special_char variable\n",
    "    special_char = '|!@#$%^&*()_-=+,.<>/\\?;:~`1234567890'\n",
    "    words = [w for w in wordnet.all_lemma_names()\n",
    "        if len([c for c in list(token) if c in list(w)]) > 0 and not any (c in special_char for c in w)]\n",
    "    nearest_token = sorted([(MED(token, w), w) for w in words], key=lambda n:n[0])\n",
    "    return nearest_token\n",
    "\n",
    "def find_top_k (nearest_token, k):\n",
    "    length = len(nearest_token) - 1 \n",
    "    while length > k:\n",
    "        nearest_token.pop(length)\n",
    "        length -= 1\n",
    "    return nearest_token"
   ]
  },
  {
   "cell_type": "code",
   "execution_count": 162,
   "metadata": {},
   "outputs": [
    {
     "name": "stdout",
     "output_type": "stream",
     "text": [
      "visited\n",
      "s@k for k = 1:  0.0\n",
      "s@k for k = 5:  0.0\n",
      "s@k for k = 10:  0.0\n",
      "magnificent\n",
      "s@k for k = 1:  0.0\n",
      "s@k for k = 5:  0.0\n",
      "s@k for k = 10:  0.0\n",
      "opposite\n",
      "s@k for k = 1:  0.0\n",
      "s@k for k = 5:  0.0\n",
      "s@k for k = 10:  0.0\n",
      "gallery\n",
      "s@k for k = 1:  0.15789473684210525\n",
      "s@k for k = 5:  0.0\n",
      "s@k for k = 10:  0.0\n",
      "splendid\n",
      "s@k for k = 1:  0.0\n",
      "s@k for k = 5:  0.0\n",
      "s@k for k = 10:  0.0\n",
      "purple\n",
      "s@k for k = 1:  0.0\n",
      "s@k for k = 5:  0.0\n",
      "s@k for k = 10:  0.0\n"
     ]
    }
   ],
   "source": [
    "for c in range(len(correct_word))  :\n",
    "    correct_spell = correct_word[c]\n",
    "    print(correct_spell)\n",
    "    incorrect_spell = incorrect_word[c]\n",
    "    checked_token = []\n",
    "    s1_list = []\n",
    "    s5_list = []\n",
    "    s10_list = []\n",
    "    count = 0\n",
    "\n",
    "    for k in [1, 5, 10]:\n",
    "        temp_list = find_nearest_token(incorrect_spell)\n",
    "        checked_token = find_top_k(temp_list, k)\n",
    "        #print(checked_token)\n",
    "        for i in range(len(checked_token)):\n",
    "            count += 1\n",
    "            if checked_token[i][1] == correct_spell:\n",
    "                if  i == 0:\n",
    "                    s1_list.append(checked_token[i][0])\n",
    "                elif i == 4:\n",
    "                    s5_list.append(checked_token[i][0])\n",
    "                elif i == 9:\n",
    "                    s10_list.append(checked_token[i][0])\n",
    "\n",
    "    print(\"s@k for k = 1: \", sum(s1_list)/count)\n",
    "    print(\"s@k for k = 5: \", sum(s5_list)/count)\n",
    "    print(\"s@k for k = 10: \", sum(s10_list)/count)  "
   ]
  }
 ],
 "metadata": {
  "kernelspec": {
   "display_name": "Python 3",
   "language": "python",
   "name": "python3"
  },
  "language_info": {
   "codemirror_mode": {
    "name": "ipython",
    "version": 3
   },
   "file_extension": ".py",
   "mimetype": "text/x-python",
   "name": "python",
   "nbconvert_exporter": "python",
   "pygments_lexer": "ipython3",
   "version": "3.12.1"
  }
 },
 "nbformat": 4,
 "nbformat_minor": 2
}
